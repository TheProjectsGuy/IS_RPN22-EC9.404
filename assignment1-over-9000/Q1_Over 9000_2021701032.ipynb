{
 "cells": [
  {
   "cell_type": "markdown",
   "id": "4db3b565",
   "metadata": {},
   "source": [
    "## Non-holonomic RRT \n",
    "\n",
    "**Team Name**: Over 9000 <br>\n",
    "**Team Members**: Avneesh Mishra (2021701032), Laksh Nanwani (2021701002) <br>\n",
    "\n",
    "This file is being handled by Avneesh Mishra (2021701032), GitHub: [TheProjectsGuy](https://github.com/TheProjectsGuy)"
   ]
  },
  {
   "cell_type": "code",
   "execution_count": 81,
   "id": "53ffa482",
   "metadata": {},
   "outputs": [],
   "source": [
    "# Import everything\n",
    "# Library\n",
    "from lib import rrt_planar_solver as RRT\n",
    "# Main libraries\n",
    "import numpy as np\n",
    "import matplotlib.pyplot as plt\n",
    "# Utilities\n",
    "import time\n",
    "import pickle\n",
    "import os"
   ]
  },
  {
   "cell_type": "markdown",
   "metadata": {},
   "source": [
    "### Simple RRT Experiment"
   ]
  },
  {
   "cell_type": "markdown",
   "metadata": {},
   "source": [
    "Declare a map of the environment. This is given as a list of Obstacles in a map. This is declared below for the given environment."
   ]
  },
  {
   "cell_type": "code",
   "execution_count": 2,
   "metadata": {},
   "outputs": [
    {
     "data": {
      "image/png": "[encoded data removed]",
      "text/plain": [
       "<Figure size 576x576 with 1 Axes>"
      ]
     },
     "metadata": {
      "needs_background": "light"
     },
     "output_type": "display_data"
    }
   ],
   "source": [
    "# Obstacles\n",
    "rect1 = RRT.Rectangle(40, 62, 60, 100)\n",
    "rect2 = RRT.Rectangle(70, 40, 80, 60)\n",
    "rect3 = RRT.Rectangle(40, 0, 60, 40)\n",
    "cir1 = RRT.Circle(20, 20, 7)\n",
    "cir2 = RRT.Circle(77, 82, 3)\n",
    "cir3 = RRT.Circle(90, 70, 2)\n",
    "# Map\n",
    "rrt_map = RRT.Map(100, 100, [rect1, rect2, rect3, cir1, cir2, cir3])\n",
    "# Show the map\n",
    "fig = plt.figure(figsize=(8, 8))\n",
    "ax = fig.add_subplot()\n",
    "ax.set_aspect('equal', 'box')\n",
    "rrt_map.draw_on_axes(ax, \":\", color=\"red\")\n",
    "plt.show()"
   ]
  },
  {
   "cell_type": "markdown",
   "metadata": {},
   "source": [
    "Creating the main RRT problem"
   ]
  },
  {
   "cell_type": "code",
   "execution_count": 3,
   "metadata": {},
   "outputs": [],
   "source": [
    "# Solver\n",
    "rrt_solver = RRT.SolverRRT(rrt_map)\n",
    "# Start and end\n",
    "start_point = (5, 5)\n",
    "end_point = (95, 95)\n",
    "# Output folders\n",
    "tree_out = \"./out\"\n",
    "path_out = \"./out_path\"\n",
    "save_fname_prefix = \"./run_default\"\n",
    "# Distances\n",
    "end_dist = 5.0  # Within goal\n",
    "max_dist = 6.0  # Max dist. to add nodes to the tree\n",
    "obj_dist = 5.0  # Distance for nodes to maintain from obstacles"
   ]
  },
  {
   "cell_type": "markdown",
   "metadata": {},
   "source": [
    "Solve for one start to end, with output images in the folder"
   ]
  },
  {
   "cell_type": "code",
   "execution_count": 4,
   "metadata": {},
   "outputs": [
    {
     "name": "stdout",
     "output_type": "stream",
     "text": [
      "Starting the RRT solver\n",
      "[INFO]: Output directory 'c:\\Users\\123av\\Documents\\IIITH\\Assignments\\Robotic Planning and Navigation - EC4-403\\assignment1-over-9000\\out' created\n",
      "It took 61.546708 seconds!\n",
      "Explored 161 nodes and found a path with 33 points\n"
     ]
    }
   ],
   "source": [
    "# Time it\n",
    "print(\"Starting the RRT solver\")\n",
    "start_time = time.time()\n",
    "# Main solver\n",
    "rrt_path = rrt_solver.solve(start_point, end_point, end_dist, \n",
    "    max_dist, obj_dist, out_dir=tree_out)\n",
    "# Results\n",
    "end_time = time.time()\n",
    "print(f\"It took {end_time-start_time:.6f} seconds!\")\n",
    "print(f\"Explored {len(rrt_solver.node_tree)} nodes and found a path \"\n",
    "    f\"with {rrt_path.shape[0]} points\")"
   ]
  },
  {
   "cell_type": "markdown",
   "metadata": {},
   "source": [
    "The tree looks like following\n",
    "\n",
    "<img src=\"./images/tree_default.png\" width=300 style=\"background-color:white\" alt=\"Tree shown on the map\"/>\n",
    "\n",
    "This took about 2 minutes!\n"
   ]
  },
  {
   "cell_type": "markdown",
   "metadata": {},
   "source": [
    "Let's visualize the trajectory"
   ]
  },
  {
   "cell_type": "code",
   "execution_count": 5,
   "metadata": {},
   "outputs": [
    {
     "name": "stdout",
     "output_type": "stream",
     "text": [
      "[INFO]: Output directory 'c:\\Users\\123av\\Documents\\IIITH\\Assignments\\Robotic Planning and Navigation - EC4-403\\assignment1-over-9000\\out_path' created\n"
     ]
    }
   ],
   "source": [
    "# Save trajectory output\n",
    "rrt_solver.save_results_figs(rrt_path, start_point, end_point, \n",
    "    path_out)"
   ]
  },
  {
   "cell_type": "markdown",
   "metadata": {},
   "source": [
    "Save and restore all files (for backup)"
   ]
  },
  {
   "cell_type": "code",
   "execution_count": 6,
   "metadata": {},
   "outputs": [],
   "source": [
    "# The solver\n",
    "fhdlr = open(f\"{save_fname_prefix}.pkl\", \"wb\")\n",
    "pickle.dump(rrt_solver, fhdlr)\n",
    "fhdlr.close()"
   ]
  },
  {
   "cell_type": "code",
   "execution_count": 7,
   "metadata": {},
   "outputs": [],
   "source": [
    "# The RRT solution\n",
    "np.save(f\"{save_fname_prefix}.npy\", rrt_path)"
   ]
  },
  {
   "cell_type": "code",
   "execution_count": 8,
   "metadata": {},
   "outputs": [],
   "source": [
    "# Load RRT solver\n",
    "fhdlr = open(f\"{save_fname_prefix}.pkl\", \"rb\")\n",
    "rrt_s : RRT.SolverRRT = pickle.load(fhdlr)\n",
    "fhdlr.close()\n",
    "# rrt_solver = rrt_s"
   ]
  },
  {
   "cell_type": "code",
   "execution_count": 10,
   "metadata": {},
   "outputs": [],
   "source": [
    "# Load the RRT solution\n",
    "rrt_p: np.ndarray = np.load(f\"{save_fname_prefix}.npy\")"
   ]
  },
  {
   "cell_type": "markdown",
   "metadata": {},
   "source": [
    "A path is shown below\n",
    "\n",
    "<img src=\"./images/path_default.png\" width=300 style=\"background-color:white\" alt=\"Path\"/>\n"
   ]
  },
  {
   "cell_type": "markdown",
   "metadata": {},
   "source": [
    "#### Some other runs"
   ]
  },
  {
   "cell_type": "markdown",
   "metadata": {},
   "source": [
    "This is the first run\n",
    "\n",
    "<img src=\"./images/tree0.png\" width=300 style=\"background-color:white\" alt=\"Tree shown on the map\"/>\n",
    "<img src=\"./images/path0.png\" width=300 style=\"background-color:white\" alt=\"Path\"/>\n"
   ]
  },
  {
   "cell_type": "markdown",
   "metadata": {},
   "source": [
    "This one took 7 minutes! It has a smaller `max_dist` value\n",
    "\n",
    "<img src=\"./images/tree1.png\" width=300 style=\"background-color:white\" alt=\"Tree shown on the map\"/>\n",
    "<img src=\"./images/path1.png\" width=300 style=\"background-color:white\" alt=\"Path\"/>"
   ]
  },
  {
   "cell_type": "markdown",
   "metadata": {},
   "source": [
    "#### Saving as videos\n",
    "\n",
    "To save the files as windows, use the `tools` folder"
   ]
  },
  {
   "cell_type": "markdown",
   "metadata": {},
   "source": [
    "Run the following commands in the root folder\n",
    "\n",
    "This is for the tree\n",
    "\n",
    "```sh\n",
    "python ./tools/imgs_to_vid.py -i ./out/ -o \"out_tree.mp4\" -f 20\n",
    "```\n",
    "\n",
    "This is for the path\n",
    "\n",
    "```sh\n",
    "python ./tools/imgs_to_vid.py -i ./out_path/ -o \"out_path.mp4\" -f 10\n",
    "```\n",
    "\n",
    "Now, you can [merge them in VLC](https://www.aiseesoft.com/tutorial/merge-videos-vlc.html), or use [clideo](https://clideo.com/merge-video). The output is submitted in the README.md file.\n"
   ]
  },
  {
   "cell_type": "markdown",
   "metadata": {},
   "source": [
    "### Non-Holonomic Motion\n",
    "\n",
    "We have waypoints through RRT. Let's follow them through wheel motions. For consistency, the above file is loaded for path.\n"
   ]
  },
  {
   "cell_type": "markdown",
   "metadata": {},
   "source": [
    "**Note**: Assuming that the vehicle is a differential drive that can rotate about the center and move forwards (where it is heading). The odometry to reach from one pose to another is to do the following:\n",
    "- Rotate to align with the line connecting the two poses\n",
    "- Translate forward on that line\n",
    "- Perform final rotation to align with the final pose"
   ]
  },
  {
   "cell_type": "code",
   "execution_count": 114,
   "metadata": {},
   "outputs": [],
   "source": [
    "# Wheelbase\n",
    "wb = 2\n",
    "# Poses\n",
    "xy_vals : np.ndarray = rrt_p    # List of [x, y] poses\n",
    "# RRT map\n",
    "rrt_map = rrt_s.map\n",
    "# Increments. Divide by time (dt) to get the velocities\n",
    "min_dth = np.deg2rad(10)\n",
    "min_dl = 2.0\n",
    "# Output folder\n",
    "path_out = \"./wheels_out\""
   ]
  },
  {
   "cell_type": "code",
   "execution_count": 115,
   "metadata": {},
   "outputs": [],
   "source": [
    "# Rotate vehicle at point\n",
    "def rotate_at_point(cpose, dth, wb):\n",
    "    \"\"\"\n",
    "        Rotate `dth` counter-clockwise at the center pose `cpose`\n",
    "        (which contains `x, y, theta` of the center). `wb` is the\n",
    "        wheelbase. Returns the pose of left, right, and center wheel\n",
    "        after the rotation. The pose of left and right wheel is \n",
    "        (x, y), but the pose of center is (x, y, th).\n",
    "    \"\"\"\n",
    "    x, y, th = cpose\n",
    "    R = np.array([\n",
    "        [np.cos(th+dth), -np.sin(th+dth)],\n",
    "        [np.sin(th+dth),  np.cos(th+dth)]])\n",
    "    P = np.array([x, y])\n",
    "    # Left and right in local\n",
    "    l_l = np.array([0,  wb/2])\n",
    "    l_r = np.array([0, -wb/2])\n",
    "    # Final\n",
    "    f_l = P + R @ l_l\n",
    "    f_r = P + R @ l_r\n",
    "    return f_l.tolist(), f_r.tolist(), [x, y, th+dth]"
   ]
  },
  {
   "cell_type": "code",
   "execution_count": 116,
   "metadata": {},
   "outputs": [],
   "source": [
    "# Translate straight\n",
    "def trans_straight(cpose, d, wb):\n",
    "    \"\"\"\n",
    "        Translate by distance `d` in the heading direction. `cpose` is\n",
    "        the pose (x, y, theta) of the center. `wb` is the wheelbase.\n",
    "        Returns the pose of left, right, and center wheel after the\n",
    "        translation. The pose of left and right wheel is (x, y), but\n",
    "        the pose of center is (x, y, th).\n",
    "    \"\"\"\n",
    "    x, y, th = cpose\n",
    "    R = np.array([\n",
    "        [np.cos(th), -np.sin(th)],\n",
    "        [np.sin(th),  np.cos(th)]])\n",
    "    P = np.array([x, y])\n",
    "    # Left and right in local\n",
    "    l_l = np.array([0,  wb/2])\n",
    "    l_r = np.array([0, -wb/2])\n",
    "    # Translation vector\n",
    "    d_v = np.array([d*np.cos(th), d*np.sin(th)])\n",
    "    # Final poses\n",
    "    f_l = P + R @ l_l + d_v\n",
    "    f_r = P + R @ l_r + d_v\n",
    "    return f_l.tolist(), f_r.tolist(), [x+d_v[0], y+d_v[1], th]"
   ]
  },
  {
   "cell_type": "code",
   "execution_count": 117,
   "metadata": {},
   "outputs": [],
   "source": [
    "# Starting pose of center\n",
    "pc = [float(xy_vals[0,0]), float(xy_vals[0,1]), 0]"
   ]
  },
  {
   "cell_type": "code",
   "execution_count": 118,
   "metadata": {},
   "outputs": [],
   "source": [
    "# Initial pose\n",
    "center_pose = pc\n",
    "th = center_pose[2] # Angle\n",
    "cxy = np.array([center_pose[0], center_pose[1]])\n",
    "l_l = np.array([0, wb/2])\n",
    "l_r = np.array([0, -wb/2])\n",
    "R = np.array([[np.cos(th), -np.sin(th)], [np.sin(th), np.cos(th)]])\n",
    "pl = cxy + R @ l_l\n",
    "pr = cxy + R @ l_r\n",
    "# Log\n",
    "poses_center = [[cxy[0], cxy[1]]]\n",
    "poses_left = [[pl[0], pl[1]]]\n",
    "poses_right = [[pr[0], pr[1]]]\n",
    "# Go from first to last-1 node: each loop is node i to i+1\n",
    "for i in range(len(xy_vals)-1):\n",
    "    xi, yi, curr_th = center_pose   # Presently here\n",
    "    xj, yj = xy_vals[i+1]   # Go here\n",
    "    des_th = np.arctan2((yj-yi), (xj-xi)) # Desired heading\n",
    "    del_th = des_th - curr_th   # Desired rotation\n",
    "    des_l = RRT.euclidean_dist((xi, yi), (xj, yj))  # Desired trans\n",
    "    # Step 1: Rotate in steps of min_dth\n",
    "    num_steps = int(del_th/min_dth)\n",
    "    for _ in range(abs(num_steps)):\n",
    "        mul = 1 if num_steps > 0 else -1\n",
    "        dth = min_dth * mul\n",
    "        lp, rp, cp = rotate_at_point(center_pose, dth, wb)\n",
    "        poses_left.append([lp[0], lp[1]])\n",
    "        poses_right.append([rp[0], rp[1]])\n",
    "        poses_center.append([cp[0], cp[1]])\n",
    "        center_pose = cp\n",
    "    # Step 2: Translate front by desired translation\n",
    "    num_steps = int(des_l/min_dl)\n",
    "    for _ in range(num_steps):\n",
    "        lp, rp, cp = trans_straight(center_pose, min_dl, wb)\n",
    "        poses_left.append([lp[0], lp[1]])\n",
    "        poses_right.append([rp[0], rp[1]])\n",
    "        poses_center.append([cp[0], cp[1]])\n",
    "        center_pose = cp\n",
    "# Final rotation to 0\n",
    "xi, yi, curr_th = center_pose   # Presently here\n",
    "des_th = 0\n",
    "del_th = des_th - curr_th\n",
    "num_steps = int(del_th/min_dth)\n",
    "for _ in range(abs(num_steps)):\n",
    "    mul = 1 if num_steps > 0 else -1\n",
    "    dth = min_dth * mul\n",
    "    lp, rp, cp = rotate_at_point(center_pose, dth, wb)\n",
    "    poses_left.append([lp[0], lp[1]])\n",
    "    poses_right.append([rp[0], rp[1]])\n",
    "    poses_center.append([cp[0], cp[1]])\n",
    "    center_pose = cp\n",
    "# Convert to numpy\n",
    "poses_left = np.array(poses_left)\n",
    "poses_right = np.array(poses_right)\n",
    "poses_center = np.array(poses_center)"
   ]
  },
  {
   "cell_type": "code",
   "execution_count": 119,
   "metadata": {},
   "outputs": [
    {
     "name": "stdout",
     "output_type": "stream",
     "text": [
      "There are 199 poses\n"
     ]
    }
   ],
   "source": [
    "print(f\"There are {poses_center.shape[0]} poses\")"
   ]
  },
  {
   "cell_type": "code",
   "execution_count": 120,
   "metadata": {},
   "outputs": [],
   "source": [
    "# Store everything in a folder\n",
    "def save_wheel_figs(map: RRT.Map, xy_vals: np.ndarray, \n",
    "        poses_center: np.ndarray, poses_left: np.ndarray, \n",
    "        poses_right: np.ndarray, out_dir: str):\n",
    "    \"\"\"\n",
    "        Save the wheel locations as images in an output directory\n",
    "    \"\"\"\n",
    "    assert poses_center.shape[0] == poses_left.shape[0] == \\\n",
    "        poses_right.shape[0], \"Poses are of unequal length\"\n",
    "    # Output directory\n",
    "    out_dir = os.path.realpath(os.path.expanduser(out_dir))\n",
    "    if not os.path.isdir(out_dir):\n",
    "        print(f\"[INFO]: Creating folder '{out_dir}'\")\n",
    "        os.makedirs(out_dir)\n",
    "    else:\n",
    "        raise FileExistsError(f\"Output directory '{out_dir}' exists\")\n",
    "    # For each pose\n",
    "    num_poses = poses_center.shape[0]\n",
    "    for i in range(num_poses+1):\n",
    "        # Plotting figure\n",
    "        fig = plt.figure(figsize=(8, 8), dpi=300)\n",
    "        ax = fig.add_subplot()\n",
    "        ax.set_aspect('equal', 'box')\n",
    "        # Map\n",
    "        map.draw_on_axes(ax, ':', color='r')\n",
    "        # Translucent path\n",
    "        ax.plot(xy_vals[:,0], xy_vals[:,1], 'co-', alpha=0.5)\n",
    "        # Points to be plotted\n",
    "        pts_c = poses_center[:i]\n",
    "        pts_l = poses_left[:i]\n",
    "        pts_r = poses_right[:i]\n",
    "        ax.plot(pts_c[:,0], pts_c[:,1], 'k-')\n",
    "        ax.plot(pts_l[:,0], pts_l[:,1], 'r--', label=\"L\")\n",
    "        ax.plot(pts_r[:,0], pts_r[:,1], 'b--', label=\"R\")\n",
    "        # Starting and ending point\n",
    "        ax.plot(xy_vals[0,0], xy_vals[0,1], \"b*\", ms=10.0)\n",
    "        ax.plot(xy_vals[-1,0], xy_vals[-1,1], \"b*\", ms=10.0)\n",
    "        # Legend\n",
    "        ax.legend()\n",
    "        # Save figure\n",
    "        fig.savefig(f\"{out_dir}/{i}.png\")\n",
    "        # Clear everything\n",
    "        fig.clear()\n",
    "        plt.close('all')"
   ]
  },
  {
   "cell_type": "code",
   "execution_count": 121,
   "metadata": {},
   "outputs": [
    {
     "name": "stdout",
     "output_type": "stream",
     "text": [
      "[INFO]: Creating folder 'c:\\Users\\123av\\Documents\\IIITH\\Assignments\\Robotic Planning and Navigation - EC4-403\\assignment1-over-9000\\wheels_out'\n"
     ]
    }
   ],
   "source": [
    "save_wheel_figs(rrt_map, xy_vals, poses_center, poses_left, \n",
    "    poses_right, path_out)"
   ]
  },
  {
   "cell_type": "markdown",
   "metadata": {},
   "source": [
    "The output is converted to a video using the following\n",
    "\n",
    "```sh\n",
    "python ./tools/imgs_to_vid.py -i ./wheels_out/ -o \"wheels_out.mp4\" -f 20\n",
    "```"
   ]
  },
  {
   "cell_type": "code",
   "execution_count": 123,
   "metadata": {},
   "outputs": [],
   "source": [
    "# Save everything\n",
    "np.save(f\"{save_fname_prefix}_c.npy\", poses_center)\n",
    "np.save(f\"{save_fname_prefix}_l.npy\", poses_left)\n",
    "np.save(f\"{save_fname_prefix}_r.npy\", poses_right)"
   ]
  },
  {
   "cell_type": "markdown",
   "metadata": {},
   "source": [
    "# Custom Experiment\n",
    "\n",
    "Experimenting with a custom environment"
   ]
  },
  {
   "cell_type": "code",
   "execution_count": 124,
   "metadata": {},
   "outputs": [],
   "source": [
    "# Obstacles in the map\n",
    "rect1 = RRT.Rectangle(20, 0, 40, 70)\n",
    "rect2 = RRT.Rectangle(70, 30, 100, 100)\n",
    "circ1 = RRT.Circle(5, 95, 5)\n",
    "start_point = (5, 5)\n",
    "end_point = (90, 5)\n",
    "# Map and solver\n",
    "rrt_map = RRT.Map(100, 100, [rect1, rect2, circ1])\n",
    "rrt_solver = RRT.SolverRRT(rrt_map)"
   ]
  },
  {
   "cell_type": "code",
   "execution_count": 125,
   "metadata": {},
   "outputs": [],
   "source": [
    "save_fname_prefix = \"./run_custom\"\n",
    "# Output folders\n",
    "tree_out = \"./out\"\n",
    "path_out = \"./out_path\"\n",
    "save_fname_prefix = \"./run_default\"\n",
    "# Distances\n",
    "end_dist = 5.0  # Within goal\n",
    "max_dist = 6.0  # Max dist. to add nodes to the tree\n",
    "obj_dist = 5.0  # Distance for nodes to maintain from obstacles"
   ]
  },
  {
   "cell_type": "code",
   "execution_count": 126,
   "metadata": {},
   "outputs": [
    {
     "name": "stdout",
     "output_type": "stream",
     "text": [
      "Starting the RRT solver\n",
      "[INFO]: Output directory 'c:\\Users\\123av\\Documents\\IIITH\\Assignments\\Robotic Planning and Navigation - EC4-403\\assignment1-over-9000\\out' created\n",
      "It took 39.040509 seconds!\n",
      "Explored 104 nodes and found a path with 42 points\n"
     ]
    }
   ],
   "source": [
    "# Time it\n",
    "print(\"Starting the RRT solver\")\n",
    "start_time = time.time()\n",
    "# Main solver\n",
    "rrt_path = rrt_solver.solve(start_point, end_point, end_dist, \n",
    "    max_dist, obj_dist, out_dir=tree_out)\n",
    "# Results\n",
    "end_time = time.time()\n",
    "print(f\"It took {end_time-start_time:.6f} seconds!\")\n",
    "print(f\"Explored {len(rrt_solver.node_tree)} nodes and found a path \"\n",
    "    f\"with {rrt_path.shape[0]} points\")"
   ]
  },
  {
   "cell_type": "code",
   "execution_count": 127,
   "metadata": {},
   "outputs": [
    {
     "name": "stdout",
     "output_type": "stream",
     "text": [
      "[INFO]: Output directory 'c:\\Users\\123av\\Documents\\IIITH\\Assignments\\Robotic Planning and Navigation - EC4-403\\assignment1-over-9000\\out_path' created\n"
     ]
    }
   ],
   "source": [
    "# Save trajectory output\n",
    "rrt_solver.save_results_figs(rrt_path, start_point, end_point, \n",
    "    path_out)"
   ]
  },
  {
   "cell_type": "code",
   "execution_count": 128,
   "metadata": {},
   "outputs": [],
   "source": [
    "# The solver\n",
    "fhdlr = open(f\"{save_fname_prefix}.pkl\", \"wb\")\n",
    "pickle.dump(rrt_solver, fhdlr)\n",
    "fhdlr.close()\n",
    "# The RRT solution\n",
    "np.save(f\"{save_fname_prefix}.npy\", rrt_path)"
   ]
  },
  {
   "cell_type": "code",
   "execution_count": 129,
   "metadata": {},
   "outputs": [],
   "source": [
    "# Load RRT solver\n",
    "fhdlr = open(f\"{save_fname_prefix}.pkl\", \"rb\")\n",
    "rrt_s : RRT.SolverRRT = pickle.load(fhdlr)\n",
    "fhdlr.close()\n",
    "# rrt_solver = rrt_s\n",
    "# Load the RRT solution\n",
    "rrt_p: np.ndarray = np.load(f\"{save_fname_prefix}.npy\")"
   ]
  },
  {
   "cell_type": "markdown",
   "metadata": {},
   "source": [
    "Show the motion"
   ]
  },
  {
   "cell_type": "code",
   "execution_count": 130,
   "metadata": {},
   "outputs": [],
   "source": [
    "# Wheelbase\n",
    "wb = 2\n",
    "# Poses\n",
    "xy_vals : np.ndarray = rrt_p    # List of [x, y] poses\n",
    "# RRT map\n",
    "rrt_map = rrt_s.map\n",
    "# Increments. Divide by time (dt) to get the velocities\n",
    "min_dth = np.deg2rad(10)\n",
    "min_dl = 2.0\n",
    "# Output folder\n",
    "path_out = \"./wheels_out\""
   ]
  },
  {
   "cell_type": "code",
   "execution_count": 132,
   "metadata": {},
   "outputs": [
    {
     "name": "stdout",
     "output_type": "stream",
     "text": [
      "There are 242 poses\n"
     ]
    }
   ],
   "source": [
    "# Starting pose of center\n",
    "pc = [float(xy_vals[0,0]), float(xy_vals[0,1]), 0]\n",
    "# Initial pose\n",
    "center_pose = pc\n",
    "th = center_pose[2] # Angle\n",
    "cxy = np.array([center_pose[0], center_pose[1]])\n",
    "l_l = np.array([0, wb/2])\n",
    "l_r = np.array([0, -wb/2])\n",
    "R = np.array([[np.cos(th), -np.sin(th)], [np.sin(th), np.cos(th)]])\n",
    "pl = cxy + R @ l_l\n",
    "pr = cxy + R @ l_r\n",
    "# Log\n",
    "poses_center = [[cxy[0], cxy[1]]]\n",
    "poses_left = [[pl[0], pl[1]]]\n",
    "poses_right = [[pr[0], pr[1]]]\n",
    "# Go from first to last-1 node: each loop is node i to i+1\n",
    "for i in range(len(xy_vals)-1):\n",
    "    xi, yi, curr_th = center_pose   # Presently here\n",
    "    xj, yj = xy_vals[i+1]   # Go here\n",
    "    des_th = np.arctan2((yj-yi), (xj-xi)) # Desired heading\n",
    "    del_th = des_th - curr_th   # Desired rotation\n",
    "    des_l = RRT.euclidean_dist((xi, yi), (xj, yj))  # Desired trans\n",
    "    # Step 1: Rotate in steps of min_dth\n",
    "    num_steps = int(del_th/min_dth)\n",
    "    for _ in range(abs(num_steps)):\n",
    "        mul = 1 if num_steps > 0 else -1\n",
    "        dth = min_dth * mul\n",
    "        lp, rp, cp = rotate_at_point(center_pose, dth, wb)\n",
    "        poses_left.append([lp[0], lp[1]])\n",
    "        poses_right.append([rp[0], rp[1]])\n",
    "        poses_center.append([cp[0], cp[1]])\n",
    "        center_pose = cp\n",
    "    # Step 2: Translate front by desired translation\n",
    "    num_steps = int(des_l/min_dl)\n",
    "    for _ in range(num_steps):\n",
    "        lp, rp, cp = trans_straight(center_pose, min_dl, wb)\n",
    "        poses_left.append([lp[0], lp[1]])\n",
    "        poses_right.append([rp[0], rp[1]])\n",
    "        poses_center.append([cp[0], cp[1]])\n",
    "        center_pose = cp\n",
    "# Final rotation to 0\n",
    "xi, yi, curr_th = center_pose   # Presently here\n",
    "des_th = 0\n",
    "del_th = des_th - curr_th\n",
    "num_steps = int(del_th/min_dth)\n",
    "for _ in range(abs(num_steps)):\n",
    "    mul = 1 if num_steps > 0 else -1\n",
    "    dth = min_dth * mul\n",
    "    lp, rp, cp = rotate_at_point(center_pose, dth, wb)\n",
    "    poses_left.append([lp[0], lp[1]])\n",
    "    poses_right.append([rp[0], rp[1]])\n",
    "    poses_center.append([cp[0], cp[1]])\n",
    "    center_pose = cp\n",
    "# Convert to numpy\n",
    "poses_left = np.array(poses_left)\n",
    "poses_right = np.array(poses_right)\n",
    "poses_center = np.array(poses_center)\n",
    "print(f\"There are {poses_center.shape[0]} poses\")"
   ]
  },
  {
   "cell_type": "code",
   "execution_count": 133,
   "metadata": {},
   "outputs": [
    {
     "name": "stdout",
     "output_type": "stream",
     "text": [
      "[INFO]: Creating folder 'c:\\Users\\123av\\Documents\\IIITH\\Assignments\\Robotic Planning and Navigation - EC4-403\\assignment1-over-9000\\wheels_out'\n"
     ]
    }
   ],
   "source": [
    "save_wheel_figs(rrt_map, xy_vals, poses_center, poses_left, \n",
    "    poses_right, path_out)"
   ]
  },
  {
   "cell_type": "markdown",
   "metadata": {},
   "source": [
    "The results are shown below\n",
    "\n",
    "<img src=\"./images/tree_custom.png\" width=300 style=\"background-color:white\" alt=\"Tree shown on the map\"/>\n",
    "<img src=\"./images/path_custom.png\" width=300 style=\"background-color:white\" alt=\"Path\"/>\n"
   ]
  },
  {
   "cell_type": "code",
   "execution_count": 134,
   "metadata": {},
   "outputs": [],
   "source": [
    "# Save everything\n",
    "np.save(f\"{save_fname_prefix}_c.npy\", poses_center)\n",
    "np.save(f\"{save_fname_prefix}_l.npy\", poses_left)\n",
    "np.save(f\"{save_fname_prefix}_r.npy\", poses_right)"
   ]
  },
  {
   "cell_type": "code",
   "execution_count": null,
   "metadata": {},
   "outputs": [],
   "source": []
  }
 ],
 "metadata": {
  "kernelspec": {
   "display_name": "Python 3",
   "language": "python",
   "name": "python3"
  },
  "language_info": {
   "codemirror_mode": {
    "name": "ipython",
    "version": 3
   },
   "file_extension": ".py",
   "mimetype": "text/x-python",
   "name": "python",
   "nbconvert_exporter": "python",
   "pygments_lexer": "ipython3",
   "version": "3.8.0"
  }
 },
 "nbformat": 4,
 "nbformat_minor": 2
}
